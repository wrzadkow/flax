{
  "cells": [
    {
      "cell_type": "code",
      "metadata": {
        "id": "x0SPwYS9dtYA",
        "colab_type": "code",
        "colab": {}
      },
      "source": [
        "import functools\n",
        "import jax\n",
        "from jax import numpy as jnp, random, lax\n",
        "import numpy as onp"
      ],
      "execution_count": 1,
      "outputs": []
    },
    {
      "cell_type": "code",
      "metadata": {
        "id": "7n9cxyCzluvI",
        "colab_type": "code",
        "colab": {}
      },
      "source": [
        "from flax import nn, struct"
      ],
      "execution_count": 2,
      "outputs": []
    },
    {
      "cell_type": "code",
      "metadata": {
        "id": "0L7YCrobkfzU",
        "colab_type": "code",
        "colab": {}
      },
      "source": [
        "from flax.core.scope import Scope, init, apply, Array, group_kinds"
      ],
      "execution_count": 3,
      "outputs": []
    },
    {
      "cell_type": "code",
      "metadata": {
        "id": "aDLGb3iGkjoL",
        "colab_type": "code",
        "outputId": "2558605e-e485-407e-b062-74d31cc49f1e",
        "executionInfo": {
          "status": "ok",
          "timestamp": 1590673431275,
          "user_tz": -120,
          "elapsed": 1116,
          "user": {
            "displayName": "Jonathan Heek",
            "photoUrl": "https://lh3.googleusercontent.com/a-/AOh14GhqRcoo1w0woYaM99jSyWQaD-qfmHmeDpXHzHZd=s64",
            "userId": "00491914421152177709"
          }
        },
        "colab": {
          "height": 136
        },
        "tags": []
      },
      "source": [
        "def dense(scope: Scope, inputs: Array, features: int, bias: bool = True,\n",
        "          kernel_init=nn.linear.default_kernel_init,\n",
        "          bias_init=nn.initializers.zeros):\n",
        "  kernel = scope.param('kernel', kernel_init, (inputs.shape[-1], features))\n",
        "  y = jnp.dot(inputs, kernel)\n",
        "  if bias:\n",
        "    y += scope.param('bias', bias_init, (features,))\n",
        "  return y\n",
        "\n",
        "model_fn = functools.partial(dense, features=3)\n",
        "\n",
        "x = jnp.ones((1, 2))\n",
        "y, params = init(model_fn)(random.PRNGKey(0), x)\n",
        "print(params)\n",
        "\n",
        "def mlp(scope: Scope, inputs: Array, features: int):\n",
        "  hidden = scope.child(dense, 'hidden')(inputs, features)\n",
        "  hidden = nn.relu(hidden)\n",
        "  return dense(scope.push('out'), hidden, 1)\n",
        "\n",
        "init(mlp)(random.PRNGKey(0), x, features=3)"
      ],
      "execution_count": 4,
      "outputs": [
        {
          "output_type": "stream",
          "name": "stdout",
          "text": "FrozenDict({'param': FrozenDict({'kernel': DeviceArray([[ 0.15374057, -0.6807397 , -1.3350962 ],\n             [ 0.59940743, -0.69430196, -0.7663768 ]], dtype=float32), 'bias': DeviceArray([0., 0., 0.], dtype=float32)})})\n"
        },
        {
          "output_type": "execute_result",
          "data": {
            "text/plain": "(DeviceArray([[-0.00302252]], dtype=float32),\n FrozenDict({'param': FrozenDict({'hidden': FrozenDict({'kernel': DeviceArray([[-1.1642578 , -0.04300674,  0.33191404],\n              [-0.7799348 ,  0.24048047, -0.6054149 ]], dtype=float32), 'bias': DeviceArray([0., 0., 0.], dtype=float32)}), 'out': FrozenDict({'kernel': DeviceArray([[ 0.21448377],\n              [-0.01530595],\n              [ 0.14402702]], dtype=float32), 'bias': DeviceArray([0.], dtype=float32)})})}))"
          },
          "metadata": {},
          "execution_count": 4
        }
      ]
    },
    {
      "cell_type": "code",
      "metadata": {
        "id": "LTFjZbRmlqZh",
        "colab_type": "code",
        "outputId": "5790b763-df4f-47c8-9f4e-53fd1e1eb1fd",
        "executionInfo": {
          "status": "ok",
          "timestamp": 1590672865722,
          "user_tz": -120,
          "elapsed": 526,
          "user": {
            "displayName": "Jonathan Heek",
            "photoUrl": "https://lh3.googleusercontent.com/a-/AOh14GhqRcoo1w0woYaM99jSyWQaD-qfmHmeDpXHzHZd=s64",
            "userId": "00491914421152177709"
          }
        },
        "colab": {
          "height": 85
        }
      },
      "source": [
        "@struct.dataclass\n",
        "class Embedding:\n",
        "  table: onp.ndarray\n",
        "\n",
        "  def lookup(self, indices):\n",
        "    return self.table[indices]\n",
        "\n",
        "  def attend(self, query):\n",
        "    return jnp.dot(query, self.table.T)\n",
        "\n",
        "# all the embedding module does is provide a convenient initializers\n",
        "\n",
        "def embedding(scope: Scope, num_embeddings: int, features: int, init_fn=nn.linear.default_embed_init) -> Embedding:\n",
        "  table = scope.param('table', init_fn, (num_embeddings, features))\n",
        "  return Embedding(table)\n",
        "\n",
        "embedding, _ = init(embedding)(random.PRNGKey(0), num_embeddings=2, features=3)\n",
        "print(embedding.table)\n",
        "print(embedding.lookup(1))\n",
        "print(embedding.attend(jnp.ones((1, 3,))))"
      ],
      "execution_count": null,
      "outputs": []
    },
    {
      "cell_type": "code",
      "metadata": {
        "id": "TMlae0hem0u5",
        "colab_type": "code",
        "outputId": "dd9c5079-10e7-4944-e09a-e9f65573a733",
        "executionInfo": {
          "status": "ok",
          "timestamp": 1590673618925,
          "user_tz": -120,
          "elapsed": 342,
          "user": {
            "displayName": "Jonathan Heek",
            "photoUrl": "https://lh3.googleusercontent.com/a-/AOh14GhqRcoo1w0woYaM99jSyWQaD-qfmHmeDpXHzHZd=s64",
            "userId": "00491914421152177709"
          }
        },
        "colab": {
          "height": 71
        }
      },
      "source": [
        "def lstm(scope, carry, inputs,\n",
        "         gate_fn=nn.activation.sigmoid, activation_fn=nn.activation.tanh,\n",
        "         kernel_init=nn.linear.default_kernel_init,\n",
        "         recurrent_kernel_init=nn.initializers.orthogonal(),\n",
        "         bias_init=nn.initializers.zeros):\n",
        "  r\"\"\"A long short-term memory (LSTM) cell.\n",
        "\n",
        "  the mathematical definition of the cell is as follows\n",
        "  .. math::\n",
        "      \\begin{array}{ll}\n",
        "      i = \\sigma(W_{ii} x + W_{hi} h + b_{hi}) \\\\\n",
        "      f = \\sigma(W_{if} x + W_{hf} h + b_{hf}) \\\\\n",
        "      g = \\tanh(W_{ig} x + W_{hg} h + b_{hg}) \\\\\n",
        "      o = \\sigma(W_{io} x + W_{ho} h + b_{ho}) \\\\\n",
        "      c' = f * c + i * g \\\\\n",
        "      h' = o * \\tanh(c') \\\\\n",
        "      \\end{array}\n",
        "  where x is the input, h is the output of the previous time step, and c is\n",
        "  the memory.\n",
        "\n",
        "  Args:\n",
        "    carry: the hidden state of the LSTM cell,\n",
        "      initialized using `LSTMCell.initialize_carry`.\n",
        "    inputs: an ndarray with the input for the current time step.\n",
        "      All dimensions except the final are considered batch dimensions.\n",
        "    gate_fn: activation function used for gates (default: sigmoid)\n",
        "    activation_fn: activation function used for output and memory update\n",
        "      (default: tanh).\n",
        "    kernel_init: initializer function for the kernels that transform\n",
        "      the input (default: lecun_normal).\n",
        "    recurrent_kernel_init: initializer function for the kernels that transform\n",
        "      the hidden state (default: orthogonal).\n",
        "    bias_init: initializer for the bias parameters (default: zeros)\n",
        "  Returns:\n",
        "    A tuple with the new carry and the output.\n",
        "  \"\"\"\n",
        "  c, h = carry\n",
        "  hidden_features = h.shape[-1]\n",
        "  # input and recurrent layers are summed so only one needs a bias.\n",
        "  dense_h = lambda name: scope.child(dense, name)(\n",
        "      h, features=hidden_features, bias=True,\n",
        "      kernel_init=recurrent_kernel_init, bias_init=bias_init)\n",
        "  dense_i = lambda name: scope.child(dense, name)(\n",
        "      inputs, features=hidden_features, bias=False,\n",
        "      kernel_init=kernel_init)\n",
        "  i = gate_fn(dense_i(name='ii') + dense_h(name='hi'))\n",
        "  f = gate_fn(dense_i(name='if') + dense_h(name='hf'))\n",
        "  g = activation_fn(dense_i(name='ig') + dense_h(name='hg'))\n",
        "  o = gate_fn(dense_i(name='io') + dense_h(name='ho'))\n",
        "  new_c = f * c + i * g\n",
        "  new_h = o * activation_fn(new_c)\n",
        "  return (new_c, new_h), new_h\n",
        "\n",
        "def lstm_init_carry(batch_dims, size, init_fn=jnp.zeros):\n",
        "  shape = batch_dims + (size,)\n",
        "  return init_fn(shape), init_fn(shape)\n",
        "\n",
        "x = jnp.ones((1, 2))\n",
        "carry = lstm_init_carry((1,), 3)\n",
        "y, variables = init(lstm)(random.PRNGKey(0), carry, x)\n",
        "jax.tree_map(onp.shape, (y, variables))"
      ],
      "execution_count": null,
      "outputs": []
    },
    {
      "cell_type": "code",
      "execution_count": null,
      "metadata": {},
      "outputs": [],
      "source": []
    }
  ],
  "metadata": {
    "colab": {
      "name": "flax functional engine.ipynb",
      "provenance": [],
      "collapsed_sections": [],
      "last_runtime": {
        "build_target": "//learning/deepmind/public/tools/ml_python:ml_notebook",
        "kind": "private"
      }
    },
    "kernelspec": {
      "name": "python3",
      "display_name": "Python 3"
    }
  },
  "nbformat": 4,
  "nbformat_minor": 0
}